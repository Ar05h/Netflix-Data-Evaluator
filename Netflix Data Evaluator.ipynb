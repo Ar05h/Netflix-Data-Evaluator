{
 "cells": [
  {
   "cell_type": "code",
   "execution_count": 543,
   "id": "e742051c",
   "metadata": {},
   "outputs": [],
   "source": [
    "# make sure the csv file is in the same folder as Anaconda\n",
    "import pandas as pd\n",
    "df = pd.read_csv('C:/Users/arosh/anaconda3/ViewingActivity.csv')"
   ]
  },
  {
   "cell_type": "code",
   "execution_count": 544,
   "id": "ddf2d51e",
   "metadata": {},
   "outputs": [
    {
     "data": {
      "text/plain": [
       "(17290, 10)"
      ]
     },
     "execution_count": 544,
     "metadata": {},
     "output_type": "execute_result"
    }
   ],
   "source": [
    "# number of rows and columns in the dataframe\n",
    "df.shape"
   ]
  },
  {
   "cell_type": "code",
   "execution_count": 545,
   "id": "1afc475f",
   "metadata": {
    "scrolled": true
   },
   "outputs": [
    {
     "data": {
      "text/html": [
       "<div>\n",
       "<style scoped>\n",
       "    .dataframe tbody tr th:only-of-type {\n",
       "        vertical-align: middle;\n",
       "    }\n",
       "\n",
       "    .dataframe tbody tr th {\n",
       "        vertical-align: top;\n",
       "    }\n",
       "\n",
       "    .dataframe thead th {\n",
       "        text-align: right;\n",
       "    }\n",
       "</style>\n",
       "<table border=\"1\" class=\"dataframe\">\n",
       "  <thead>\n",
       "    <tr style=\"text-align: right;\">\n",
       "      <th></th>\n",
       "      <th>Profile Name</th>\n",
       "      <th>Start Time</th>\n",
       "      <th>Duration</th>\n",
       "      <th>Attributes</th>\n",
       "      <th>Title</th>\n",
       "      <th>Supplemental Video Type</th>\n",
       "      <th>Device Type</th>\n",
       "      <th>Bookmark</th>\n",
       "      <th>Latest Bookmark</th>\n",
       "      <th>Country</th>\n",
       "    </tr>\n",
       "  </thead>\n",
       "  <tbody>\n",
       "    <tr>\n",
       "      <th>0</th>\n",
       "      <td>Arosh</td>\n",
       "      <td>2023-08-11 03:23:02</td>\n",
       "      <td>00:00:59</td>\n",
       "      <td>NaN</td>\n",
       "      <td>The Tailor: Season 1: Episode 1</td>\n",
       "      <td>NaN</td>\n",
       "      <td>Apple iPhone SE Gen 2 iPhone</td>\n",
       "      <td>00:24:42</td>\n",
       "      <td>00:24:42</td>\n",
       "      <td>US (United States)</td>\n",
       "    </tr>\n",
       "  </tbody>\n",
       "</table>\n",
       "</div>"
      ],
      "text/plain": [
       "  Profile Name           Start Time  Duration Attributes  \\\n",
       "0        Arosh  2023-08-11 03:23:02  00:00:59        NaN   \n",
       "\n",
       "                             Title Supplemental Video Type  \\\n",
       "0  The Tailor: Season 1: Episode 1                     NaN   \n",
       "\n",
       "                    Device Type  Bookmark Latest Bookmark             Country  \n",
       "0  Apple iPhone SE Gen 2 iPhone  00:24:42        00:24:42  US (United States)  "
      ]
     },
     "execution_count": 545,
     "metadata": {},
     "output_type": "execute_result"
    }
   ],
   "source": [
    "# returns specific amount of rows\n",
    "df.head(1)"
   ]
  },
  {
   "cell_type": "code",
   "execution_count": 546,
   "id": "1319194d",
   "metadata": {},
   "outputs": [
    {
     "data": {
      "text/plain": [
       "Profile Name               object\n",
       "Start Time                 object\n",
       "Duration                   object\n",
       "Attributes                 object\n",
       "Title                      object\n",
       "Supplemental Video Type    object\n",
       "Device Type                object\n",
       "Bookmark                   object\n",
       "Latest Bookmark            object\n",
       "Country                    object\n",
       "dtype: object"
      ]
     },
     "execution_count": 546,
     "metadata": {},
     "output_type": "execute_result"
    }
   ],
   "source": [
    "# list of data types for each column in the dataframe\n",
    "df.dtypes"
   ]
  },
  {
   "cell_type": "code",
   "execution_count": 547,
   "id": "e05b8d2e",
   "metadata": {},
   "outputs": [
    {
     "data": {
      "text/plain": [
       "Profile Name                            object\n",
       "Start Time                 datetime64[ns, UTC]\n",
       "Duration                                object\n",
       "Attributes                              object\n",
       "Title                                   object\n",
       "Supplemental Video Type                 object\n",
       "Device Type                             object\n",
       "Bookmark                                object\n",
       "Latest Bookmark                         object\n",
       "Country                                 object\n",
       "dtype: object"
      ]
     },
     "execution_count": 547,
     "metadata": {},
     "output_type": "execute_result"
    }
   ],
   "source": [
    "# change to pandas's datetime and add UTC timezone \n",
    "df['Start Time'] = pd.to_datetime(df['Start Time'], utc=True)\n",
    "df.dtypes"
   ]
  },
  {
   "cell_type": "code",
   "execution_count": 548,
   "id": "c2ae7181",
   "metadata": {
    "scrolled": true
   },
   "outputs": [
    {
     "data": {
      "text/html": [
       "<div>\n",
       "<style scoped>\n",
       "    .dataframe tbody tr th:only-of-type {\n",
       "        vertical-align: middle;\n",
       "    }\n",
       "\n",
       "    .dataframe tbody tr th {\n",
       "        vertical-align: top;\n",
       "    }\n",
       "\n",
       "    .dataframe thead th {\n",
       "        text-align: right;\n",
       "    }\n",
       "</style>\n",
       "<table border=\"1\" class=\"dataframe\">\n",
       "  <thead>\n",
       "    <tr style=\"text-align: right;\">\n",
       "      <th></th>\n",
       "      <th>Start Time</th>\n",
       "      <th>Profile Name</th>\n",
       "      <th>Duration</th>\n",
       "      <th>Attributes</th>\n",
       "      <th>Title</th>\n",
       "      <th>Supplemental Video Type</th>\n",
       "      <th>Device Type</th>\n",
       "      <th>Bookmark</th>\n",
       "      <th>Latest Bookmark</th>\n",
       "      <th>Country</th>\n",
       "    </tr>\n",
       "  </thead>\n",
       "  <tbody>\n",
       "    <tr>\n",
       "      <th>0</th>\n",
       "      <td>2023-08-10 23:23:02-04:00</td>\n",
       "      <td>Arosh</td>\n",
       "      <td>00:00:59</td>\n",
       "      <td>NaN</td>\n",
       "      <td>The Tailor: Season 1: Episode 1</td>\n",
       "      <td>NaN</td>\n",
       "      <td>Apple iPhone SE Gen 2 iPhone</td>\n",
       "      <td>00:24:42</td>\n",
       "      <td>00:24:42</td>\n",
       "      <td>US (United States)</td>\n",
       "    </tr>\n",
       "  </tbody>\n",
       "</table>\n",
       "</div>"
      ],
      "text/plain": [
       "                 Start Time Profile Name  Duration Attributes  \\\n",
       "0 2023-08-10 23:23:02-04:00        Arosh  00:00:59        NaN   \n",
       "\n",
       "                             Title Supplemental Video Type  \\\n",
       "0  The Tailor: Season 1: Episode 1                     NaN   \n",
       "\n",
       "                    Device Type  Bookmark Latest Bookmark             Country  \n",
       "0  Apple iPhone SE Gen 2 iPhone  00:24:42        00:24:42  US (United States)  "
      ]
     },
     "execution_count": 548,
     "metadata": {},
     "output_type": "execute_result"
    }
   ],
   "source": [
    "# change the Start Time column into the dataframe's index\n",
    "df = df.set_index('Start Time')\n",
    "\n",
    "# convert from UTC timezone to eastern time\n",
    "df.index = df.index.tz_convert('US/Eastern')\n",
    "\n",
    "# reset the index so that Start Time becomes a column again\n",
    "df = df.reset_index()\n",
    "\n",
    "# double-check that it worked\n",
    "df.head(1)"
   ]
  },
  {
   "cell_type": "code",
   "execution_count": 549,
   "id": "15ec9014",
   "metadata": {
    "scrolled": true
   },
   "outputs": [
    {
     "data": {
      "text/plain": [
       "Start Time                 datetime64[ns, US/Eastern]\n",
       "Profile Name                                   object\n",
       "Duration                              timedelta64[ns]\n",
       "Attributes                                     object\n",
       "Title                                          object\n",
       "Supplemental Video Type                        object\n",
       "Device Type                                    object\n",
       "Bookmark                                       object\n",
       "Latest Bookmark                                object\n",
       "Country                                        object\n",
       "dtype: object"
      ]
     },
     "execution_count": 549,
     "metadata": {},
     "output_type": "execute_result"
    }
   ],
   "source": [
    "# convert to timedelta which is a measure of time duration that pandas understands\n",
    "df['Duration'] = pd.to_timedelta(df['Duration'])\n",
    "df.dtypes"
   ]
  },
  {
   "cell_type": "code",
   "execution_count": 550,
   "id": "1285d37a",
   "metadata": {},
   "outputs": [],
   "source": [
    "# create a new dataframe called bb that takes from df\n",
    "# only the rows in which the title column contains Breaking Bad\n",
    "bb = df[df['Title'].str.contains('Breaking Bad', regex=False)]"
   ]
  },
  {
   "cell_type": "code",
   "execution_count": 551,
   "id": "3eaa7c1e",
   "metadata": {},
   "outputs": [
    {
     "data": {
      "text/html": [
       "<div>\n",
       "<style scoped>\n",
       "    .dataframe tbody tr th:only-of-type {\n",
       "        vertical-align: middle;\n",
       "    }\n",
       "\n",
       "    .dataframe tbody tr th {\n",
       "        vertical-align: top;\n",
       "    }\n",
       "\n",
       "    .dataframe thead th {\n",
       "        text-align: right;\n",
       "    }\n",
       "</style>\n",
       "<table border=\"1\" class=\"dataframe\">\n",
       "  <thead>\n",
       "    <tr style=\"text-align: right;\">\n",
       "      <th></th>\n",
       "      <th>Start Time</th>\n",
       "      <th>Profile Name</th>\n",
       "      <th>Duration</th>\n",
       "      <th>Attributes</th>\n",
       "      <th>Title</th>\n",
       "      <th>Supplemental Video Type</th>\n",
       "      <th>Device Type</th>\n",
       "      <th>Bookmark</th>\n",
       "      <th>Latest Bookmark</th>\n",
       "      <th>Country</th>\n",
       "    </tr>\n",
       "  </thead>\n",
       "  <tbody>\n",
       "    <tr>\n",
       "      <th>11891</th>\n",
       "      <td>2019-02-04 21:00:10-05:00</td>\n",
       "      <td>zohra</td>\n",
       "      <td>0 days 00:46:36</td>\n",
       "      <td>Autoplayed: user action: Unspecified;</td>\n",
       "      <td>Breaking Bad: Season 5: Blood Money (Episode 9)</td>\n",
       "      <td>NaN</td>\n",
       "      <td>Netflix Linux Firefox Other</td>\n",
       "      <td>00:46:48</td>\n",
       "      <td>00:46:48</td>\n",
       "      <td>US (United States)</td>\n",
       "    </tr>\n",
       "    <tr>\n",
       "      <th>1346</th>\n",
       "      <td>2021-12-16 16:49:33-05:00</td>\n",
       "      <td>Arosh</td>\n",
       "      <td>0 days 00:21:22</td>\n",
       "      <td>NaN</td>\n",
       "      <td>Breaking Bad: Season 4: Crawl Space (Episode 11)</td>\n",
       "      <td>NaN</td>\n",
       "      <td>Netflix Chrome MAC (Cadmium) HTML 5</td>\n",
       "      <td>00:21:22</td>\n",
       "      <td>Not latest view</td>\n",
       "      <td>US (United States)</td>\n",
       "    </tr>\n",
       "    <tr>\n",
       "      <th>12050</th>\n",
       "      <td>2018-12-02 21:03:36-05:00</td>\n",
       "      <td>zohra</td>\n",
       "      <td>0 days 00:00:02</td>\n",
       "      <td>Autoplayed: user action: Unspecified;</td>\n",
       "      <td>Breaking Bad: Season 2: Breakage (Episode 5)</td>\n",
       "      <td>NaN</td>\n",
       "      <td>Netflix Linux Firefox Other</td>\n",
       "      <td>00:00:03</td>\n",
       "      <td>Not latest view</td>\n",
       "      <td>US (United States)</td>\n",
       "    </tr>\n",
       "    <tr>\n",
       "      <th>11895</th>\n",
       "      <td>2019-02-03 19:50:42-05:00</td>\n",
       "      <td>zohra</td>\n",
       "      <td>0 days 00:47:07</td>\n",
       "      <td>Autoplayed: user action: Unspecified;</td>\n",
       "      <td>Breaking Bad: Season 5: Dead Freight (Episode 5)</td>\n",
       "      <td>NaN</td>\n",
       "      <td>Netflix Linux Firefox Other</td>\n",
       "      <td>00:47:19</td>\n",
       "      <td>00:47:19</td>\n",
       "      <td>US (United States)</td>\n",
       "    </tr>\n",
       "    <tr>\n",
       "      <th>7604</th>\n",
       "      <td>2023-02-14 02:27:36-05:00</td>\n",
       "      <td>zohra</td>\n",
       "      <td>0 days 00:00:16</td>\n",
       "      <td>Autoplayed: user action: None;</td>\n",
       "      <td>Breaking Bad: Season 1_hook_02_16x9</td>\n",
       "      <td>HOOK</td>\n",
       "      <td>Chrome PC (Cadmium)</td>\n",
       "      <td>00:00:16</td>\n",
       "      <td>Not latest view</td>\n",
       "      <td>US (United States)</td>\n",
       "    </tr>\n",
       "    <tr>\n",
       "      <th>1313</th>\n",
       "      <td>2021-12-24 02:12:48-05:00</td>\n",
       "      <td>Arosh</td>\n",
       "      <td>0 days 00:00:04</td>\n",
       "      <td>NaN</td>\n",
       "      <td>El Camino: A Breaking Bad Movie</td>\n",
       "      <td>NaN</td>\n",
       "      <td>Chrome PC (Cadmium)</td>\n",
       "      <td>00:00:04</td>\n",
       "      <td>00:00:04</td>\n",
       "      <td>US (United States)</td>\n",
       "    </tr>\n",
       "    <tr>\n",
       "      <th>11985</th>\n",
       "      <td>2018-12-22 17:12:13-05:00</td>\n",
       "      <td>zohra</td>\n",
       "      <td>0 days 00:00:03</td>\n",
       "      <td>NaN</td>\n",
       "      <td>Breaking Bad: Season 3: Green Light (Episode 4)</td>\n",
       "      <td>NaN</td>\n",
       "      <td>Apple iPhone 7 (GSM)</td>\n",
       "      <td>00:00:04</td>\n",
       "      <td>Not latest view</td>\n",
       "      <td>US (United States)</td>\n",
       "    </tr>\n",
       "    <tr>\n",
       "      <th>1438</th>\n",
       "      <td>2021-10-14 23:07:00-04:00</td>\n",
       "      <td>Arosh</td>\n",
       "      <td>0 days 00:00:01</td>\n",
       "      <td>Autoplayed: user action: None;</td>\n",
       "      <td>Breaking Bad: Season 3: I See You (Episode 8)</td>\n",
       "      <td>NaN</td>\n",
       "      <td>Microsoft Xbox One X</td>\n",
       "      <td>00:00:01</td>\n",
       "      <td>Not latest view</td>\n",
       "      <td>US (United States)</td>\n",
       "    </tr>\n",
       "    <tr>\n",
       "      <th>1450</th>\n",
       "      <td>2021-10-10 21:48:54-04:00</td>\n",
       "      <td>Arosh</td>\n",
       "      <td>0 days 00:46:29</td>\n",
       "      <td>Autoplayed: user action: User_Interaction;</td>\n",
       "      <td>Breaking Bad: Season 3: No Más (Episode 1)</td>\n",
       "      <td>NaN</td>\n",
       "      <td>Microsoft Xbox One X</td>\n",
       "      <td>00:46:39</td>\n",
       "      <td>00:46:39</td>\n",
       "      <td>US (United States)</td>\n",
       "    </tr>\n",
       "    <tr>\n",
       "      <th>12057</th>\n",
       "      <td>2018-12-01 21:15:03-05:00</td>\n",
       "      <td>zohra</td>\n",
       "      <td>0 days 00:45:31</td>\n",
       "      <td>Autoplayed: user action: Unspecified;</td>\n",
       "      <td>Breaking Bad: Season 2: Seven Thirty-Seven (Ep...</td>\n",
       "      <td>NaN</td>\n",
       "      <td>Netflix Linux Firefox Other</td>\n",
       "      <td>00:46:35</td>\n",
       "      <td>00:46:35</td>\n",
       "      <td>US (United States)</td>\n",
       "    </tr>\n",
       "  </tbody>\n",
       "</table>\n",
       "</div>"
      ],
      "text/plain": [
       "                     Start Time Profile Name        Duration  \\\n",
       "11891 2019-02-04 21:00:10-05:00        zohra 0 days 00:46:36   \n",
       "1346  2021-12-16 16:49:33-05:00        Arosh 0 days 00:21:22   \n",
       "12050 2018-12-02 21:03:36-05:00        zohra 0 days 00:00:02   \n",
       "11895 2019-02-03 19:50:42-05:00        zohra 0 days 00:47:07   \n",
       "7604  2023-02-14 02:27:36-05:00        zohra 0 days 00:00:16   \n",
       "1313  2021-12-24 02:12:48-05:00        Arosh 0 days 00:00:04   \n",
       "11985 2018-12-22 17:12:13-05:00        zohra 0 days 00:00:03   \n",
       "1438  2021-10-14 23:07:00-04:00        Arosh 0 days 00:00:01   \n",
       "1450  2021-10-10 21:48:54-04:00        Arosh 0 days 00:46:29   \n",
       "12057 2018-12-01 21:15:03-05:00        zohra 0 days 00:45:31   \n",
       "\n",
       "                                        Attributes  \\\n",
       "11891       Autoplayed: user action: Unspecified;    \n",
       "1346                                           NaN   \n",
       "12050       Autoplayed: user action: Unspecified;    \n",
       "11895       Autoplayed: user action: Unspecified;    \n",
       "7604               Autoplayed: user action: None;    \n",
       "1313                                           NaN   \n",
       "11985                                          NaN   \n",
       "1438               Autoplayed: user action: None;    \n",
       "1450   Autoplayed: user action: User_Interaction;    \n",
       "12057       Autoplayed: user action: Unspecified;    \n",
       "\n",
       "                                                   Title  \\\n",
       "11891    Breaking Bad: Season 5: Blood Money (Episode 9)   \n",
       "1346    Breaking Bad: Season 4: Crawl Space (Episode 11)   \n",
       "12050       Breaking Bad: Season 2: Breakage (Episode 5)   \n",
       "11895   Breaking Bad: Season 5: Dead Freight (Episode 5)   \n",
       "7604                 Breaking Bad: Season 1_hook_02_16x9   \n",
       "1313                     El Camino: A Breaking Bad Movie   \n",
       "11985    Breaking Bad: Season 3: Green Light (Episode 4)   \n",
       "1438       Breaking Bad: Season 3: I See You (Episode 8)   \n",
       "1450          Breaking Bad: Season 3: No Más (Episode 1)   \n",
       "12057  Breaking Bad: Season 2: Seven Thirty-Seven (Ep...   \n",
       "\n",
       "      Supplemental Video Type                          Device Type  Bookmark  \\\n",
       "11891                     NaN          Netflix Linux Firefox Other  00:46:48   \n",
       "1346                      NaN  Netflix Chrome MAC (Cadmium) HTML 5  00:21:22   \n",
       "12050                     NaN          Netflix Linux Firefox Other  00:00:03   \n",
       "11895                     NaN          Netflix Linux Firefox Other  00:47:19   \n",
       "7604                     HOOK                  Chrome PC (Cadmium)  00:00:16   \n",
       "1313                      NaN                  Chrome PC (Cadmium)  00:00:04   \n",
       "11985                     NaN                 Apple iPhone 7 (GSM)  00:00:04   \n",
       "1438                      NaN                 Microsoft Xbox One X  00:00:01   \n",
       "1450                      NaN                 Microsoft Xbox One X  00:46:39   \n",
       "12057                     NaN          Netflix Linux Firefox Other  00:46:35   \n",
       "\n",
       "       Latest Bookmark             Country  \n",
       "11891         00:46:48  US (United States)  \n",
       "1346   Not latest view  US (United States)  \n",
       "12050  Not latest view  US (United States)  \n",
       "11895         00:47:19  US (United States)  \n",
       "7604   Not latest view  US (United States)  \n",
       "1313          00:00:04  US (United States)  \n",
       "11985  Not latest view  US (United States)  \n",
       "1438   Not latest view  US (United States)  \n",
       "1450          00:46:39  US (United States)  \n",
       "12057         00:46:35  US (United States)  "
      ]
     },
     "execution_count": 551,
     "metadata": {},
     "output_type": "execute_result"
    }
   ],
   "source": [
    "# inspects ten rows of the bb dataframe\n",
    "bb.sample(10)"
   ]
  },
  {
   "cell_type": "code",
   "execution_count": 552,
   "id": "24e6c1f7",
   "metadata": {},
   "outputs": [
    {
     "data": {
      "text/plain": [
       "(137, 10)"
      ]
     },
     "execution_count": 552,
     "metadata": {},
     "output_type": "execute_result"
    }
   ],
   "source": [
    "# limits to only rows where duration is greater than one minute\n",
    "bb = bb[(bb['Duration'] > '0 days 00:01:00')]\n",
    "bb.shape"
   ]
  },
  {
   "cell_type": "code",
   "execution_count": 553,
   "id": "cd1054f8",
   "metadata": {},
   "outputs": [
    {
     "data": {
      "text/plain": [
       "Timedelta('4 days 02:41:44')"
      ]
     },
     "execution_count": 553,
     "metadata": {},
     "output_type": "execute_result"
    }
   ],
   "source": [
    "# adds up total duration \n",
    "bb['Duration'].sum()"
   ]
  },
  {
   "cell_type": "code",
   "execution_count": 554,
   "id": "f58ff934",
   "metadata": {},
   "outputs": [
    {
     "data": {
      "text/html": [
       "<div>\n",
       "<style scoped>\n",
       "    .dataframe tbody tr th:only-of-type {\n",
       "        vertical-align: middle;\n",
       "    }\n",
       "\n",
       "    .dataframe tbody tr th {\n",
       "        vertical-align: top;\n",
       "    }\n",
       "\n",
       "    .dataframe thead th {\n",
       "        text-align: right;\n",
       "    }\n",
       "</style>\n",
       "<table border=\"1\" class=\"dataframe\">\n",
       "  <thead>\n",
       "    <tr style=\"text-align: right;\">\n",
       "      <th></th>\n",
       "      <th>Start Time</th>\n",
       "      <th>Profile Name</th>\n",
       "      <th>Duration</th>\n",
       "      <th>Attributes</th>\n",
       "      <th>Title</th>\n",
       "      <th>Supplemental Video Type</th>\n",
       "      <th>Device Type</th>\n",
       "      <th>Bookmark</th>\n",
       "      <th>Latest Bookmark</th>\n",
       "      <th>Country</th>\n",
       "      <th>weekday</th>\n",
       "      <th>hour</th>\n",
       "    </tr>\n",
       "  </thead>\n",
       "  <tbody>\n",
       "    <tr>\n",
       "      <th>1314</th>\n",
       "      <td>2021-12-24 01:18:08-05:00</td>\n",
       "      <td>Arosh</td>\n",
       "      <td>0 days 00:54:35</td>\n",
       "      <td>NaN</td>\n",
       "      <td>Breaking Bad: Season 5: Felina (Episode 16)</td>\n",
       "      <td>NaN</td>\n",
       "      <td>Chrome PC (Cadmium)</td>\n",
       "      <td>00:54:39</td>\n",
       "      <td>00:54:39</td>\n",
       "      <td>US (United States)</td>\n",
       "      <td>4</td>\n",
       "      <td>1</td>\n",
       "    </tr>\n",
       "  </tbody>\n",
       "</table>\n",
       "</div>"
      ],
      "text/plain": [
       "                    Start Time Profile Name        Duration Attributes  \\\n",
       "1314 2021-12-24 01:18:08-05:00        Arosh 0 days 00:54:35        NaN   \n",
       "\n",
       "                                            Title Supplemental Video Type  \\\n",
       "1314  Breaking Bad: Season 5: Felina (Episode 16)                     NaN   \n",
       "\n",
       "              Device Type  Bookmark Latest Bookmark             Country  \\\n",
       "1314  Chrome PC (Cadmium)  00:54:39        00:54:39  US (United States)   \n",
       "\n",
       "      weekday  hour  \n",
       "1314        4     1  "
      ]
     },
     "execution_count": 554,
     "metadata": {},
     "output_type": "execute_result"
    }
   ],
   "source": [
    "# creating new columns for weekday and hour that was most watched on \n",
    "bb['weekday'] = bb['Start Time'].dt.weekday\n",
    "bb['hour'] = bb['Start Time'].dt.hour\n",
    "\n",
    "# check to make sure the columns were added correctly\n",
    "bb.head(1)"
   ]
  },
  {
   "cell_type": "code",
   "execution_count": 555,
   "id": "c6380bf9",
   "metadata": {},
   "outputs": [],
   "source": [
    "# makes chart show up on Jupyter notebook\n",
    "%matplotlib inline\n",
    "import matplotlib\n",
    "import datetime"
   ]
  },
  {
   "cell_type": "code",
   "execution_count": 556,
   "id": "4b868f66",
   "metadata": {},
   "outputs": [],
   "source": [
    "# set our categorical and define the order so the days are plotted Monday-Sunday\n",
    "bb['weekday'] = pd.Categorical(bb['weekday'], categories=\n",
    "    [0,1,2,3,4,5,6],\n",
    "    ordered=True)"
   ]
  },
  {
   "cell_type": "code",
   "execution_count": 557,
   "id": "112898ce",
   "metadata": {},
   "outputs": [],
   "source": [
    "# create bb_by_day and count the rows for each weekday, assigning the result to that variable\n",
    "bb_by_day = bb['weekday'].value_counts()"
   ]
  },
  {
   "cell_type": "code",
   "execution_count": 558,
   "id": "d2d0b430",
   "metadata": {},
   "outputs": [],
   "source": [
    "# sort the index using our categorical, so that Monday (0) is first, Tuesday (1) is second, etc.\n",
    "bb_by_day = bb_by_day.sort_index()"
   ]
  },
  {
   "cell_type": "code",
   "execution_count": 559,
   "id": "5c37b697",
   "metadata": {},
   "outputs": [],
   "source": [
    "# update the font size to make it larger and easier to read\n",
    "matplotlib.rcParams.update({'font.size': 22})"
   ]
  },
  {
   "cell_type": "code",
   "execution_count": 560,
   "id": "120bf9ce",
   "metadata": {},
   "outputs": [
    {
     "data": {
      "text/plain": [
       "<Axes: title={'center': 'Breaking Bad Episodes Watched by Day'}>"
      ]
     },
     "execution_count": 560,
     "metadata": {},
     "output_type": "execute_result"
    },
    {
     "data": {
      "image/png": "[encoded data removed]",
      "text/plain": [
       "<Figure size 2000x1000 with 1 Axes>"
      ]
     },
     "metadata": {},
     "output_type": "display_data"
    }
   ],
   "source": [
    "# plot bb_by_day as a bar chart with the listed size and title\n",
    "bb_by_day.plot(kind='bar', figsize=(20,10), title='Breaking Bad Episodes Watched by Day')"
   ]
  },
  {
   "cell_type": "code",
   "execution_count": 542,
   "id": "752b07fc",
   "metadata": {},
   "outputs": [
    {
     "data": {
      "text/plain": [
       "<Axes: title={'center': 'Breaking Bad Episodes Watched by Hour'}>"
      ]
     },
     "execution_count": 542,
     "metadata": {},
     "output_type": "execute_result"
    },
    {
     "data": {
      "image/png": "[encoded data removed]",
      "text/plain": [
       "<Figure size 2000x1000 with 1 Axes>"
      ]
     },
     "metadata": {},
     "output_type": "display_data"
    }
   ],
   "source": [
    "# set our categorical and define the order so the hours are plotted 0-23\n",
    "bb['hour'] = pd.Categorical(bb['hour'], categories=\n",
    "    [0,1,2,3,4,5,6,7,8,9,10,11,12,13,14,15,16,17,18,19,20,21,22,23],\n",
    "    ordered=True)\n",
    "\n",
    "# create bb_by_hour and count the rows for each hour, assigning the result to that variable\n",
    "bb_by_hour = bb['hour'].value_counts()\n",
    "\n",
    "# sort the index using our categorical, so that midnight (0) is first, 1 a.m. (1) is second, etc.\n",
    "bb_by_hour = bb_by_hour.sort_index()\n",
    "\n",
    "# plot bb_by_hour as a bar chart with the listed size and title\n",
    "bb_by_hour.plot(kind='bar', figsize=(20,10), title='Breaking Bad Episodes Watched by Hour')"
   ]
  }
 ],
 "metadata": {
  "kernelspec": {
   "display_name": "Python 3 (ipykernel)",
   "language": "python",
   "name": "python3"
  },
  "language_info": {
   "codemirror_mode": {
    "name": "ipython",
    "version": 3
   },
   "file_extension": ".py",
   "mimetype": "text/x-python",
   "name": "python",
   "nbconvert_exporter": "python",
   "pygments_lexer": "ipython3",
   "version": "3.11.4"
  }
 },
 "nbformat": 4,
 "nbformat_minor": 5
}
